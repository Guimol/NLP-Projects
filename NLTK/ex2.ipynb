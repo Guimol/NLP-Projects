{
  "nbformat": 4,
  "nbformat_minor": 0,
  "metadata": {
    "colab": {
      "name": "ex2.ipynb",
      "provenance": [],
      "collapsed_sections": [],
      "mount_file_id": "1hHWr24qArW-NlAEaJIlBR5rx-U4OO-mJ",
      "authorship_tag": "ABX9TyO4aybYUFlu15B/WvgOr79k",
      "include_colab_link": true
    },
    "kernelspec": {
      "name": "python3",
      "display_name": "Python 3"
    },
    "language_info": {
      "name": "python"
    }
  },
  "cells": [
    {
      "cell_type": "markdown",
      "metadata": {
        "id": "view-in-github",
        "colab_type": "text"
      },
      "source": [
        "<a href=\"https://colab.research.google.com/github/Guimol/NLP-Projects/blob/main/NLTK/ex2.ipynb\" target=\"_parent\"><img src=\"https://colab.research.google.com/assets/colab-badge.svg\" alt=\"Open In Colab\"/></a>"
      ]
    },
    {
      "cell_type": "code",
      "metadata": {
        "id": "JVCZw2RVPZXM"
      },
      "source": [
        "import nltk"
      ],
      "execution_count": null,
      "outputs": []
    },
    {
      "cell_type": "code",
      "metadata": {
        "id": "nDbkCnHXPl3V"
      },
      "source": [
        "nltk.download()\n",
        "#Passo: d\n",
        "#Passo: all\n",
        "#Passo: q"
      ],
      "execution_count": null,
      "outputs": []
    },
    {
      "cell_type": "code",
      "metadata": {
        "id": "s1l6epW1-tqK"
      },
      "source": [
        "arquivo = open(\"/content/drive/MyDrive/Codigos/BootcampPythonPLN/nltk/corpus_teste.txt\", 'r')\n",
        "corpus = arquivo.read()"
      ],
      "execution_count": null,
      "outputs": []
    },
    {
      "cell_type": "markdown",
      "metadata": {
        "id": "seTGzTXZ9ZGc"
      },
      "source": [
        "#Letra A"
      ]
    },
    {
      "cell_type": "code",
      "metadata": {
        "id": "sRN82P7a9nbz"
      },
      "source": [
        "tokens = nltk.word_tokenize(corpus)\n",
        "\n",
        "print(tokens)"
      ],
      "execution_count": null,
      "outputs": []
    },
    {
      "cell_type": "markdown",
      "metadata": {
        "id": "kAzH0x7y-j7J"
      },
      "source": [
        "#Letra B"
      ]
    },
    {
      "cell_type": "code",
      "metadata": {
        "colab": {
          "base_uri": "https://localhost:8080/"
        },
        "id": "khnWv0L2-jPe",
        "outputId": "3800afd8-65f7-4330-e93c-eb52710fe0da"
      },
      "source": [
        "qtdTokens = len(tokens)\n",
        "print(f\"Quantidade de tokens: {qtdTokens}\")"
      ],
      "execution_count": null,
      "outputs": [
        {
          "output_type": "stream",
          "name": "stdout",
          "text": [
            "Quantidade de tokens: 862\n"
          ]
        }
      ]
    },
    {
      "cell_type": "markdown",
      "metadata": {
        "id": "t6wknvps_CHE"
      },
      "source": [
        "#Letra C"
      ]
    },
    {
      "cell_type": "code",
      "metadata": {
        "id": "cpXMNzab_Bnv"
      },
      "source": [
        "tokenizer = nltk.tokenize.RegexpTokenizer(r'[a-zA-Z]\\w*')\n",
        "palavras = tokenizer.tokenize(corpus)\n",
        "\n",
        "print(palavras)"
      ],
      "execution_count": null,
      "outputs": []
    },
    {
      "cell_type": "markdown",
      "metadata": {
        "id": "NWZv5GOB_y99"
      },
      "source": [
        "#Letra D"
      ]
    },
    {
      "cell_type": "code",
      "metadata": {
        "colab": {
          "base_uri": "https://localhost:8080/"
        },
        "id": "_FF_08Ay_1ud",
        "outputId": "0a5c142f-a602-4b0e-89c0-0b8403ced26f"
      },
      "source": [
        "qtdPalavras = len(palavras)\n",
        "print(f\"Quantidade de palavras: {qtdPalavras}\")"
      ],
      "execution_count": null,
      "outputs": [
        {
          "output_type": "stream",
          "name": "stdout",
          "text": [
            "Quantidade de palavras: 726\n"
          ]
        }
      ]
    },
    {
      "cell_type": "markdown",
      "metadata": {
        "id": "L1stYCyqAAho"
      },
      "source": [
        "#Letra E"
      ]
    },
    {
      "cell_type": "code",
      "metadata": {
        "id": "nbj7eV3BABpG"
      },
      "source": [
        "frequencia = nltk.FreqDist(palavras)\n",
        "\n",
        "frequencia.most_common()"
      ],
      "execution_count": null,
      "outputs": []
    },
    {
      "cell_type": "markdown",
      "metadata": {
        "id": "24Zmp3aoAQdp"
      },
      "source": [
        "#Letra F"
      ]
    },
    {
      "cell_type": "code",
      "metadata": {
        "id": "-tKeGos6AQBB"
      },
      "source": [
        "print(frequencia.most_common(5))\n",
        "print(frequencia.most_common(10))\n",
        "print(frequencia.most_common(15))"
      ],
      "execution_count": null,
      "outputs": []
    },
    {
      "cell_type": "markdown",
      "metadata": {
        "id": "OJLJoQcZAi4h"
      },
      "source": [
        "#Letra G"
      ]
    },
    {
      "cell_type": "code",
      "metadata": {
        "id": "3zBu75E0AkkO"
      },
      "source": [
        "stopwords = nltk.corpus.stopwords.words('portuguese')\n",
        "\n",
        "print(stopwords)"
      ],
      "execution_count": null,
      "outputs": []
    },
    {
      "cell_type": "markdown",
      "metadata": {
        "id": "_nPNa5a1A11f"
      },
      "source": [
        "#Letra H"
      ]
    },
    {
      "cell_type": "code",
      "metadata": {
        "id": "7a6muI-wA1sr"
      },
      "source": [
        "palavras_sem_stopwords = []\n",
        "for palavra in palavras:\n",
        "  palavra = palavra.lower()\n",
        "  if palavra not in stopwords:\n",
        "    palavras_sem_stopwords.append(palavra)\n",
        "\n",
        "nova_Frequencia = nltk.FreqDist(palavras_sem_stopwords)\n",
        "nova_Frequencia.most_common()"
      ],
      "execution_count": null,
      "outputs": []
    },
    {
      "cell_type": "code",
      "metadata": {
        "colab": {
          "base_uri": "https://localhost:8080/"
        },
        "id": "EImAGwVCq4Mf",
        "outputId": "347fab57-3b5c-43c8-b260-e8d1a58b6a63"
      },
      "source": [
        "s = \"instituto de ciencias matematicas e de computacao\"\n",
        "len(s.split())"
      ],
      "execution_count": null,
      "outputs": [
        {
          "output_type": "execute_result",
          "data": {
            "text/plain": [
              "7"
            ]
          },
          "metadata": {},
          "execution_count": 5
        }
      ]
    },
    {
      "cell_type": "markdown",
      "metadata": {
        "id": "W3aA3xeG-vaq"
      },
      "source": [
        "#Curiosidade"
      ]
    },
    {
      "cell_type": "code",
      "metadata": {
        "id": "E4Mf30X3RBNu"
      },
      "source": [
        "pathTreino = '/root/nltk_data/corpora/conll2000/train.txt'\n",
        "pathTeste = '/root/nltk_data/corpora/conll2000/test.txt'"
      ],
      "execution_count": null,
      "outputs": []
    },
    {
      "cell_type": "code",
      "metadata": {
        "id": "JkcbCFJFSOe-"
      },
      "source": [
        "#Comandos dentro do corpus CONLL2000\n",
        "dir(nltk.corpus.conll2000)"
      ],
      "execution_count": null,
      "outputs": []
    },
    {
      "cell_type": "code",
      "metadata": {
        "id": "bl1qiWFlSh62"
      },
      "source": [
        "#Todas as frases com as etiquetas B-beggining I-inside O-outside \n",
        "nltk.corpus.conll2000.iob_sents()"
      ],
      "execution_count": null,
      "outputs": []
    },
    {
      "cell_type": "code",
      "metadata": {
        "id": "NnX9v6FDTAmL"
      },
      "source": [
        "#Uma frase com as etiquetas B-beggining I-inside O-outside\n",
        "nltk.corpus.conll2000.iob_sents()[0]"
      ],
      "execution_count": null,
      "outputs": []
    },
    {
      "cell_type": "code",
      "metadata": {
        "id": "hRvvD-3kTIAO"
      },
      "source": [
        "#Um token com as etiquetas B-beggining I-inside O-outside\n",
        "nltk.corpus.conll2000.iob_sents()[0][0]"
      ],
      "execution_count": null,
      "outputs": []
    },
    {
      "cell_type": "code",
      "metadata": {
        "id": "2CJLMseeTjT8"
      },
      "source": [
        "#Frases com suas etiquetas de anotacao\n",
        "nltk.corpus.conll2000.tagged_sents()[0]"
      ],
      "execution_count": null,
      "outputs": []
    }
  ]
}
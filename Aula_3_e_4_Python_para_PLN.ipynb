{
  "nbformat": 4,
  "nbformat_minor": 0,
  "metadata": {
    "colab": {
      "name": "Aula_3_e_4_Python_para_PLN.ipynb",
      "provenance": [],
      "collapsed_sections": [],
      "include_colab_link": true
    },
    "kernelspec": {
      "name": "python3",
      "display_name": "Python 3"
    },
    "language_info": {
      "name": "python"
    }
  },
  "cells": [
    {
      "cell_type": "markdown",
      "metadata": {
        "id": "view-in-github",
        "colab_type": "text"
      },
      "source": [
        "<a href=\"https://colab.research.google.com/github/Guimol/NLP-Projects/blob/main/Aula_3_e_4_Python_para_PLN.ipynb\" target=\"_parent\"><img src=\"https://colab.research.google.com/assets/colab-badge.svg\" alt=\"Open In Colab\"/></a>"
      ]
    },
    {
      "cell_type": "code",
      "metadata": {
        "id": "kLKAdrEZVAFP"
      },
      "source": [
        "infile = open(\"/content/drive/MyDrive/Codigos/BootcampPythonPLN/nltk/corpus_teste.txt\", 'r')\n",
        "texto = infile.read()\n",
        "print(len(texto.split()))\n",
        "infile.close()"
      ],
      "execution_count": null,
      "outputs": []
    },
    {
      "cell_type": "code",
      "metadata": {
        "id": "djwRd3xFWb-C"
      },
      "source": [
        "outfile = open(\"/content/drive/MyDrive/Codigos/BootcampPythonPLN/nltk/result.txt\", 'w')\n",
        "outfile.write(\"Números de 1 a 10\"+'\\n')\n",
        "for i in range(1,11):\n",
        "  outfile.write(str(i)+\"\\n\")\n",
        "outfile.close()"
      ],
      "execution_count": null,
      "outputs": []
    },
    {
      "cell_type": "code",
      "metadata": {
        "id": "h5oGFf5lW2cR"
      },
      "source": [
        "arquivo = open(\"/content/drive/MyDrive/Codigos/BootcampPythonPLN/nltk/result.txt\", 'r')\n",
        "print(arquivo.read())"
      ],
      "execution_count": null,
      "outputs": []
    },
    {
      "cell_type": "code",
      "metadata": {
        "id": "mhYhRlHaXnJd"
      },
      "source": [
        "outfile = open(\"/content/drive/MyDrive/Codigos/BootcampPythonPLN/nltk/result.txt\", 'w')\n",
        "outfile.write(\"Adicionando números de 11 a 20\"+'\\n')\n",
        "for i in range(11,21):\n",
        "  outfile.write(str(i)+\"\\n\")\n",
        "outfile.close()"
      ],
      "execution_count": null,
      "outputs": []
    },
    {
      "cell_type": "code",
      "metadata": {
        "id": "IQ6S7VHoXyHZ"
      },
      "source": [
        "arquivo = open(\"/content/drive/MyDrive/Codigos/BootcampPythonPLN/nltk/result.txt\", 'r')\n",
        "print(arquivo.read())"
      ],
      "execution_count": null,
      "outputs": []
    },
    {
      "cell_type": "code",
      "metadata": {
        "id": "kpRkpTK4X1qu"
      },
      "source": [
        "outfile = open(\"/content/drive/MyDrive/Codigos/BootcampPythonPLN/nltk/result.txt\", 'a')\n",
        "outfile.write(\"Adicionando números de 21 a 30\"+'\\n')\n",
        "for i in range(21,31):\n",
        "  outfile.write(str(i)+\"\\n\")\n",
        "outfile.close()"
      ],
      "execution_count": null,
      "outputs": []
    },
    {
      "cell_type": "code",
      "metadata": {
        "id": "hJGFwqmsX7qb"
      },
      "source": [
        "arquivo = open(\"/content/drive/MyDrive/Codigos/BootcampPythonPLN/nltk/result.txt\", 'r')\n",
        "print(arquivo.read())"
      ],
      "execution_count": null,
      "outputs": []
    },
    {
      "cell_type": "code",
      "metadata": {
        "id": "NQx2zuskg4BT"
      },
      "source": [
        "'aspas simples'"
      ],
      "execution_count": null,
      "outputs": []
    },
    {
      "cell_type": "code",
      "metadata": {
        "id": "_g68HlGfg9uc"
      },
      "source": [
        "\"aspas duplas\""
      ],
      "execution_count": null,
      "outputs": []
    },
    {
      "cell_type": "code",
      "metadata": {
        "id": "G-JpkSr7hAsE"
      },
      "source": [
        "texto = \"aspas simples\"\n",
        "type(texto)"
      ],
      "execution_count": null,
      "outputs": []
    },
    {
      "cell_type": "code",
      "metadata": {
        "id": "xwS5qH7LBTnI"
      },
      "source": [
        "print(\"aspas\" == 'aspas')"
      ],
      "execution_count": null,
      "outputs": []
    },
    {
      "cell_type": "code",
      "metadata": {
        "id": "wRVBHLw5hMtY"
      },
      "source": [
        "\"\"\"aspas triplas tem uma propriedade que ignoram\n",
        "a quebra de \n",
        "linha\"\"\""
      ],
      "execution_count": null,
      "outputs": []
    },
    {
      "cell_type": "code",
      "metadata": {
        "id": "Lfb-0tfXixw6"
      },
      "source": [
        "variavel = 1 + 1\n",
        "variavel\n",
        "variavel + 3\n",
        "print(variavel)"
      ],
      "execution_count": null,
      "outputs": []
    },
    {
      "cell_type": "code",
      "metadata": {
        "id": "DZgCLBDZi3RB"
      },
      "source": [
        "r = 'roney'\n",
        "l = ' lira'\n",
        "r = r + ' lira'\n",
        "r + l"
      ],
      "execution_count": null,
      "outputs": []
    },
    {
      "cell_type": "code",
      "metadata": {
        "id": "myCNagGajkHL"
      },
      "source": [
        "pi = 3.14\n",
        "info = 'o valor de pi é = ' + str(pi)\n",
        "print(info)"
      ],
      "execution_count": null,
      "outputs": []
    },
    {
      "cell_type": "code",
      "metadata": {
        "id": "rmG3Ig5mkos1"
      },
      "source": [
        "string = 'instituto de ciências matemáticas e de computação'\n",
        "string[1:10]"
      ],
      "execution_count": null,
      "outputs": []
    },
    {
      "cell_type": "code",
      "metadata": {
        "id": "JkIdSOAXmhvU"
      },
      "source": [
        "string.upper()"
      ],
      "execution_count": null,
      "outputs": []
    },
    {
      "cell_type": "code",
      "metadata": {
        "colab": {
          "base_uri": "https://localhost:8080/"
        },
        "id": "unmAPhSenWfY",
        "outputId": "9e5f741b-61f9-4b25-8eab-ca44cf91e428"
      },
      "source": [
        "print(string.replace('a', 'X'))\n",
        "print(string)"
      ],
      "execution_count": null,
      "outputs": [
        {
          "output_type": "stream",
          "name": "stdout",
          "text": [
            "instituto de ciênciXs mXtemáticXs e de computXção\n",
            "instituto de ciências matemáticas e de computação\n"
          ]
        }
      ]
    },
    {
      "cell_type": "code",
      "metadata": {
        "id": "_OPOyRVvpdMy"
      },
      "source": [
        "len(string.split())"
      ],
      "execution_count": null,
      "outputs": []
    },
    {
      "cell_type": "code",
      "metadata": {
        "id": "o9xUEc6RqqcT"
      },
      "source": [
        "lista_split = string.split()\n",
        "lista_split.append(\"ICMC\")\n",
        "lista_split"
      ],
      "execution_count": null,
      "outputs": []
    },
    {
      "cell_type": "code",
      "metadata": {
        "id": "MqkQYQoxq0DR"
      },
      "source": [
        "juntar = \" \".join(lista_split)\n",
        "juntar"
      ],
      "execution_count": null,
      "outputs": []
    },
    {
      "cell_type": "code",
      "metadata": {
        "id": "iKcHbXGTsJUO"
      },
      "source": [
        "string = 'instituto de \\\\ ciências matemáticas \\\\ e de computação'\n",
        "print(string)"
      ],
      "execution_count": null,
      "outputs": []
    }
  ]
}